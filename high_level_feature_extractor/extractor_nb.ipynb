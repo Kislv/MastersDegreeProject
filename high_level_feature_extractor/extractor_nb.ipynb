{
 "cells": [
  {
   "cell_type": "code",
   "execution_count": 6,
   "metadata": {},
   "outputs": [],
   "source": [
    "import pandas as pd\n",
    "import sys\n",
    "sys.path.append('..')\n",
    "\n",
    "from high_level_feature_extractor.extract import (\n",
    "    extract,\n",
    ")"
   ]
  },
  {
   "cell_type": "code",
   "execution_count": 2,
   "metadata": {},
   "outputs": [],
   "source": [
    "pd.set_option('display.max_columns', None)\n",
    "pd.set_option('display.max_rows', None)\n",
    "\n",
    "%load_ext autoreload\n",
    "%autoreload all"
   ]
  },
  {
   "cell_type": "code",
   "execution_count": 11,
   "metadata": {},
   "outputs": [
    {
     "name": "stdout",
     "output_type": "stream",
     "text": [
      "Start of the processing!\n",
      "len(unique_hashes) = 184633\n",
      "Start of processing arguments_list!\n",
      "End of processing arguments_list!\n"
     ]
    },
    {
     "name": "stderr",
     "output_type": "stream",
     "text": [
      " 55%|█████▌    | 22/40 [08:47<07:28, 24.90s/it]"
     ]
    },
    {
     "name": "stdout",
     "output_type": "stream",
     "text": [
      "Exception = Audio must have length greater than the block size., arguments = WAVFilePathInitArgs(path=PosixPath('/data01/vvkiselev/data/other/dpl/dusha/crowd/crowd_train/wavs/e9e531b4541646924785de97b28e9e74.wav'), transcription='мультик про сиреноголового в лабиринте', reading_mode='rb')\n"
     ]
    },
    {
     "name": "stderr",
     "output_type": "stream",
     "text": [
      " 57%|█████▊    | 23/40 [09:13<07:04, 24.99s/it]"
     ]
    },
    {
     "name": "stdout",
     "output_type": "stream",
     "text": [
      "Exception = Audio must have length greater than the block size., arguments = WAVFilePathInitArgs(path=PosixPath('/data01/vvkiselev/data/other/dpl/dusha/crowd/crowd_train/wavs/5d9560dd2cba88b2dc87b6b4d5b6a29d.wav'), transcription='фильмы меньшова', reading_mode='rb')\n"
     ]
    },
    {
     "name": "stderr",
     "output_type": "stream",
     "text": [
      "100%|██████████| 40/40 [16:45<00:00, 25.14s/it]\n"
     ]
    },
    {
     "name": "stdout",
     "output_type": "stream",
     "text": [
      "len(unique_hashes) = 17217\n",
      "Start of processing arguments_list!\n",
      "End of processing arguments_list!\n"
     ]
    },
    {
     "name": "stderr",
     "output_type": "stream",
     "text": [
      "100%|██████████| 40/40 [02:55<00:00,  4.39s/it]\n"
     ]
    }
   ],
   "source": [
    "extract()"
   ]
  }
 ],
 "metadata": {
  "kernelspec": {
   "display_name": "Python 3 (ipykernel)",
   "language": "python",
   "name": "python3"
  },
  "language_info": {
   "codemirror_mode": {
    "name": "ipython",
    "version": 3
   },
   "file_extension": ".py",
   "mimetype": "text/x-python",
   "name": "python",
   "nbconvert_exporter": "python",
   "pygments_lexer": "ipython3",
   "version": "3.11.11"
  },
  "orig_nbformat": 4
 },
 "nbformat": 4,
 "nbformat_minor": 2
}
